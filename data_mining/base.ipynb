{
 "cells": [
  {
   "cell_type": "markdown",
   "metadata": {
    "collapsed": true,
    "pycharm": {
     "name": "#%% md\n"
    }
   },
   "source": [
    "## 基本命令"
   ]
  },
  {
   "cell_type": "markdown",
   "source": [
    "### 基本运算"
   ],
   "metadata": {
    "collapsed": false,
    "pycharm": {
     "name": "#%% md\n"
    }
   }
  },
  {
   "cell_type": "code",
   "execution_count": 4,
   "outputs": [
    {
     "name": "stdout",
     "output_type": "stream",
     "text": [
      "4\n",
      "4\n",
      "say: hello world!\n",
      "['hello', 'world!']\n"
     ]
    }
   ],
   "source": [
    "# 赋值\n",
    "import matplotlib.pyplot as plt\n",
    "\n",
    "a = 2\n",
    "# 乘法\n",
    "print(a * 2)\n",
    "# 幂\n",
    "print(a ** 2)\n",
    "# 多重赋值\n",
    "a, b, c = 2, 3, 4\n",
    "# 字符串操作\n",
    "s = 'hello world!'\n",
    "# 拼接\n",
    "print('say: ' + s)\n",
    "# 分隔\n",
    "print(str.split(s, ' '))"
   ],
   "metadata": {
    "collapsed": false,
    "pycharm": {
     "name": "#%%\n"
    }
   }
  },
  {
   "cell_type": "markdown",
   "source": [
    "### 判断与循环"
   ],
   "metadata": {
    "collapsed": false,
    "pycharm": {
     "name": "#%% md\n"
    }
   }
  },
  {
   "cell_type": "code",
   "execution_count": 5,
   "outputs": [
    {
     "name": "stdout",
     "output_type": "stream",
     "text": [
      "a!=1\n",
      "101\n",
      "5050\n"
     ]
    }
   ],
   "source": [
    "# if\n",
    "if a == 1:\n",
    "    print(a)\n",
    "else:\n",
    "    print('a!=1')\n",
    "# while\n",
    "s, k = 0, 0\n",
    "while k < 101:\n",
    "    k += 1\n",
    "    s += 1\n",
    "print(s)\n",
    "# for\n",
    "s = 0\n",
    "for k in range(101):\n",
    "    s += k\n",
    "print(s)"
   ],
   "metadata": {
    "collapsed": false,
    "pycharm": {
     "name": "#%%\n"
    }
   }
  },
  {
   "cell_type": "markdown",
   "source": [
    "### 函数"
   ],
   "metadata": {
    "collapsed": false,
    "pycharm": {
     "name": "#%% md\n"
    }
   }
  },
  {
   "cell_type": "code",
   "execution_count": 6,
   "outputs": [],
   "source": [
    "def add(x: int) -> int:\n",
    "    return x + 2"
   ],
   "metadata": {
    "collapsed": false,
    "pycharm": {
     "name": "#%%\n"
    }
   }
  },
  {
   "cell_type": "markdown",
   "source": [
    "## 数据结构"
   ],
   "metadata": {
    "collapsed": false,
    "pycharm": {
     "name": "#%% md\n"
    }
   }
  },
  {
   "cell_type": "markdown",
   "source": [
    "### 列表与元组"
   ],
   "metadata": {
    "collapsed": false,
    "pycharm": {
     "name": "#%% md\n"
    }
   }
  },
  {
   "cell_type": "code",
   "execution_count": 14,
   "outputs": [
    {
     "name": "stdout",
     "output_type": "stream",
     "text": [
      "[3, 4, '3 str']\n"
     ]
    }
   ],
   "source": [
    "# 列表,可以修改\n",
    "l = [1, 2, '3']\n",
    "# 元组.不可修改\n",
    "t = (1, 2, '3')\n",
    "# 列表解析\n",
    "r = [i + 2 if type(i) == int else i + ' str' for i in l]\n",
    "print(r)"
   ],
   "metadata": {
    "collapsed": false,
    "pycharm": {
     "name": "#%%\n"
    }
   }
  },
  {
   "cell_type": "markdown",
   "source": [
    "### 字典"
   ],
   "metadata": {
    "collapsed": false,
    "pycharm": {
     "name": "#%% md\n"
    }
   }
  },
  {
   "cell_type": "code",
   "execution_count": 22,
   "outputs": [
    {
     "name": "stdout",
     "output_type": "stream",
     "text": [
      "{'a': 10, 'b': 30}\n",
      "{'a': 1, 'b': 20}\n",
      "{'a': 10, 'b': 10}\n"
     ]
    }
   ],
   "source": [
    "d1 = {'a': 10, 'b': 30}\n",
    "print(d1)\n",
    "d2 = dict(a=1, b=20)\n",
    "print(d2)\n",
    "d3 = dict.fromkeys(['a', 'b'], 10)\n",
    "print(d3)"
   ],
   "metadata": {
    "collapsed": false,
    "pycharm": {
     "name": "#%%\n"
    }
   }
  },
  {
   "cell_type": "markdown",
   "source": [
    "### 集合"
   ],
   "metadata": {
    "collapsed": false,
    "pycharm": {
     "name": "#%% md\n"
    }
   }
  },
  {
   "cell_type": "code",
   "execution_count": 25,
   "outputs": [
    {
     "name": "stdout",
     "output_type": "stream",
     "text": [
      "{1, 2, 3, 4}\n",
      "{3, 4, 5, 6}\n",
      "{1, 2, 3, 4, 5, 6}\n",
      "{3, 4}\n",
      "{1, 2}\n",
      "{1, 2, 5, 6}\n"
     ]
    }
   ],
   "source": [
    "s1 = {1, 2, 3, 4}\n",
    "s2 = {3, 4, 5, 6}\n",
    "print(s1)\n",
    "print(s2)\n",
    "# 并\n",
    "print(s1 | s2)\n",
    "# 交\n",
    "print(s1 & s2)\n",
    "# 差,在s1中但不在s2中\n",
    "print(s1 - s2)\n",
    "# 对称差,在s1或s2中,但不会同时出现在二者中\n",
    "print(s1 ^ s2)"
   ],
   "metadata": {
    "collapsed": false,
    "pycharm": {
     "name": "#%%\n"
    }
   }
  },
  {
   "cell_type": "markdown",
   "source": [
    "## 函数式编程"
   ],
   "metadata": {
    "collapsed": false,
    "pycharm": {
     "name": "#%% md\n"
    }
   }
  },
  {
   "cell_type": "code",
   "execution_count": 35,
   "outputs": [
    {
     "name": "stdout",
     "output_type": "stream",
     "text": [
      "[1, 2, 3, 4, 5, 6, 7, 8, 9, 10]\n",
      "[3, 4, 5, 6, 7, 8, 9, 10, 11, 12]\n",
      "55\n",
      "[3, 4, 5]\n"
     ]
    }
   ],
   "source": [
    "a = [i for i in range(1, 11)]\n",
    "print(a)\n",
    "# map\n",
    "print(list(map(lambda x: x + 2, a)))\n",
    "# reduce\n",
    "from functools import reduce\n",
    "\n",
    "print(reduce(lambda x, y: x + y, a))\n",
    "# filter\n",
    "print(list(filter(lambda x: 2 < x < 6, a)))"
   ],
   "metadata": {
    "collapsed": false,
    "pycharm": {
     "name": "#%%\n"
    }
   }
  },
  {
   "cell_type": "markdown",
   "source": [
    "## 数据分析工具"
   ],
   "metadata": {
    "collapsed": false,
    "pycharm": {
     "name": "#%% md\n"
    }
   }
  },
  {
   "cell_type": "markdown",
   "source": [
    "### numpy\n",
    "数组支持与相应的高效处理函数"
   ],
   "metadata": {
    "collapsed": false,
    "pycharm": {
     "name": "#%% md\n"
    }
   }
  },
  {
   "cell_type": "code",
   "execution_count": 42,
   "outputs": [
    {
     "name": "stdout",
     "output_type": "stream",
     "text": [
      "[2 3 4 1]\n",
      "[2 3 4]\n",
      "1\n",
      "[1 2 3 4]\n",
      "[[2 3 4 1]\n",
      " [2 3 4 1]]\n",
      "[[ 4  9 16  1]\n",
      " [ 4  9 16  1]]\n"
     ]
    }
   ],
   "source": [
    "import numpy as np\n",
    "\n",
    "a = np.array([2, 3, 4, 1])\n",
    "print(a)\n",
    "print(a[:3])\n",
    "print(a.min())\n",
    "a.sort()\n",
    "print(a)\n",
    "b = np.array([[2, 3, 4, 1], [2, 3, 4, 1]])\n",
    "print(b)\n",
    "print(b * b)"
   ],
   "metadata": {
    "collapsed": false,
    "pycharm": {
     "name": "#%%\n"
    }
   }
  },
  {
   "cell_type": "markdown",
   "source": [
    "### scipy\n",
    "矩阵支持以及相关数值计算模块"
   ],
   "metadata": {
    "collapsed": false,
    "pycharm": {
     "name": "#%% md\n"
    }
   }
  },
  {
   "cell_type": "code",
   "execution_count": 62,
   "outputs": [
    {
     "name": "stdout",
     "output_type": "stream",
     "text": [
      "[1.91963957 1.68501606]\n",
      "3.141592653589797\n"
     ]
    }
   ],
   "source": [
    "from scipy.optimize import fsolve\n",
    "from scipy import integrate\n",
    "from numpy import ndarray\n",
    "\n",
    "\n",
    "# 非线性方程组2x1-x2^2=1,x1^2-x2=2\n",
    "def f(x: ndarray) -> list:\n",
    "    x1 = x[0]\n",
    "    x2 = x[1]\n",
    "    return [2 * x1 - x2 ** 2 - 1, x1 ** 2 - x2 - 2]\n",
    "\n",
    "\n",
    "r = fsolve(f, np.array([1, 1]))\n",
    "print(r)\n",
    "\n",
    "# 积分\n",
    "r = integrate.quad(lambda x: (1 - x ** 2) ** 0.5, -1.0, 1.0)\n",
    "print(r[0] * 2)"
   ],
   "metadata": {
    "collapsed": false,
    "pycharm": {
     "name": "#%%\n"
    }
   }
  },
  {
   "cell_type": "markdown",
   "source": [
    "### matplotlib\n",
    "数据可视化"
   ],
   "metadata": {
    "collapsed": false,
    "pycharm": {
     "name": "#%% md\n"
    }
   }
  },
  {
   "cell_type": "code",
   "execution_count": 88,
   "outputs": [
    {
     "data": {
      "text/plain": "<Figure size 576x288 with 1 Axes>",
      "image/png": "[encoded data removed]"
     },
     "metadata": {
      "needs_background": "light"
     },
     "output_type": "display_data"
    }
   ],
   "source": [
    "import matplotlib.pyplot as plt\n",
    "\n",
    "x = np.linspace(0, 10, 1000)\n",
    "y = np.sin(x) + 1\n",
    "z = np.cos(x ** 2) - 1\n",
    "# 设置图像大小\n",
    "plt.figure(figsize=(8, 4))\n",
    "# 中文显示\n",
    "plt.rcParams['font.sans-serif'] = ['SimHei']\n",
    "# 显示负号\n",
    "plt.rcParams['axes.unicode_minus'] = False\n",
    "plt.plot(x, y, label='$ \\sin x+1 $', color='red', linewidth=2)\n",
    "plt.plot(x, z, 'b--', label='$ \\cos x^2-1 $')\n",
    "plt.xlabel('times(s)')\n",
    "plt.ylabel('volt')\n",
    "plt.title('example 示例')\n",
    "plt.ylim(-2.25, 2.25)\n",
    "plt.legend()\n",
    "plt.show()"
   ],
   "metadata": {
    "collapsed": false,
    "pycharm": {
     "name": "#%%\n"
    }
   }
  },
  {
   "cell_type": "markdown",
   "source": [
    "### pandas\n",
    "数据探索与分析工具"
   ],
   "metadata": {
    "collapsed": false,
    "pycharm": {
     "name": "#%% md\n"
    }
   }
  },
  {
   "cell_type": "code",
   "execution_count": 97,
   "outputs": [
    {
     "name": "stdout",
     "output_type": "stream",
     "text": [
      "a    1\n",
      "b    2\n",
      "c    3\n",
      "dtype: int64\n",
      "[[2 3 4 1]\n",
      " [2 3 4 1]]\n",
      "   0\n",
      "a  1\n",
      "b  2\n",
      "c  3\n",
      "   a  b  c\n",
      "0  1  2  3\n",
      "1  4  5  6\n",
      "             a        b        c\n",
      "count  2.00000  2.00000  2.00000\n",
      "mean   2.50000  3.50000  4.50000\n",
      "std    2.12132  2.12132  2.12132\n",
      "min    1.00000  2.00000  3.00000\n",
      "25%    1.75000  2.75000  3.75000\n",
      "50%    2.50000  3.50000  4.50000\n",
      "75%    3.25000  4.25000  5.25000\n",
      "max    4.00000  5.00000  6.00000\n"
     ]
    }
   ],
   "source": [
    "import pandas as pd\n",
    "\n",
    "s = pd.Series([1, 2, 3], index=['a', 'b', 'c'])\n",
    "print(s)\n",
    "d = pd.DataFrame([[1, 2, 3], [4, 5, 6]], columns=['a', 'b', 'c'])\n",
    "print(b)\n",
    "print(pd.DataFrame(s))\n",
    "print(d.head())\n",
    "print(d.describe())"
   ],
   "metadata": {
    "collapsed": false,
    "pycharm": {
     "name": "#%%\n"
    }
   }
  },
  {
   "cell_type": "markdown",
   "source": [
    "### statsmodels\n",
    "统计建模和计量经济学,包括描述统计,统计模型估计和推断"
   ],
   "metadata": {
    "collapsed": false,
    "pycharm": {
     "name": "#%% md\n"
    }
   }
  },
  {
   "cell_type": "code",
   "execution_count": 114,
   "outputs": [
    {
     "data": {
      "text/plain": "(-6.221846248597472,\n 5.200371737966791e-08,\n 2,\n 97,\n {'1%': -3.4996365338407074,\n  '5%': -2.8918307730370025,\n  '10%': -2.5829283377617176},\n 275.76077927582475)"
     },
     "execution_count": 114,
     "metadata": {},
     "output_type": "execute_result"
    }
   ],
   "source": [
    "from statsmodels.tsa.stattools import adfuller as ADF\n",
    "\n",
    "ADF(np.random.randn(100))"
   ],
   "metadata": {
    "collapsed": false,
    "pycharm": {
     "name": "#%%\n"
    }
   }
  },
  {
   "cell_type": "markdown",
   "source": [
    "### sklearn\n",
    "支持回归,分类,聚类等强大的机器学习库"
   ],
   "metadata": {
    "collapsed": false,
    "pycharm": {
     "name": "#%% md\n"
    }
   }
  },
  {
   "cell_type": "code",
   "execution_count": 107,
   "outputs": [
    {
     "name": "stdout",
     "output_type": "stream",
     "text": [
      "(150, 4)\n"
     ]
    },
    {
     "name": "stderr",
     "output_type": "stream",
     "text": [
      "T:\\Users\\zlhywlf\\anaconda3\\lib\\site-packages\\sklearn\\svm\\_base.py:1206: ConvergenceWarning: Liblinear failed to converge, increase the number of iterations.\n",
      "  warnings.warn(\n"
     ]
    },
    {
     "data": {
      "text/plain": "array([[ 0.18424016,  0.45122739, -0.80794375, -0.45071181],\n       [ 0.05554631, -0.8991315 ,  0.40942594, -0.96179199],\n       [-0.85071673, -0.98677694,  1.38096385,  1.86533332]])"
     },
     "execution_count": 107,
     "metadata": {},
     "output_type": "execute_result"
    }
   ],
   "source": [
    "from sklearn import datasets, svm\n",
    "\n",
    "iris = datasets.load_iris()\n",
    "print(iris.data.shape)\n",
    "clf = svm.LinearSVC()\n",
    "# 训练\n",
    "clf.fit(iris.data, iris.target)\n",
    "# 预测\n",
    "clf.predict([[5.0, 3.6, 1.3, 0.25]])\n",
    "clf.coef_"
   ],
   "metadata": {
    "collapsed": false,
    "pycharm": {
     "name": "#%%\n"
    }
   }
  },
  {
   "cell_type": "markdown",
   "source": [
    "### keras\n",
    "深度学习库,用于建立神经网络以及深度学习模型"
   ],
   "metadata": {
    "collapsed": false,
    "pycharm": {
     "name": "#%% md\n"
    }
   }
  },
  {
   "cell_type": "code",
   "execution_count": 116,
   "outputs": [
    {
     "ename": "ModuleNotFoundError",
     "evalue": "No module named 'tensorflow'",
     "output_type": "error",
     "traceback": [
      "\u001B[1;31m---------------------------------------------------------------------------\u001B[0m",
      "\u001B[1;31mModuleNotFoundError\u001B[0m                       Traceback (most recent call last)",
      "Input \u001B[1;32mIn [116]\u001B[0m, in \u001B[0;36m<cell line: 1>\u001B[1;34m()\u001B[0m\n\u001B[1;32m----> 1\u001B[0m \u001B[38;5;28;01mfrom\u001B[39;00m \u001B[38;5;21;01mkeras\u001B[39;00m\u001B[38;5;21;01m.\u001B[39;00m\u001B[38;5;21;01mmodels\u001B[39;00m \u001B[38;5;28;01mimport\u001B[39;00m Sequential\n\u001B[0;32m      2\u001B[0m \u001B[38;5;28;01mfrom\u001B[39;00m \u001B[38;5;21;01mkeras\u001B[39;00m\u001B[38;5;21;01m.\u001B[39;00m\u001B[38;5;21;01mlayers\u001B[39;00m\u001B[38;5;21;01m.\u001B[39;00m\u001B[38;5;21;01mcore\u001B[39;00m \u001B[38;5;28;01mimport\u001B[39;00m Dense, Dropout, Activation\n\u001B[0;32m      3\u001B[0m \u001B[38;5;28;01mfrom\u001B[39;00m \u001B[38;5;21;01mkeras\u001B[39;00m\u001B[38;5;21;01m.\u001B[39;00m\u001B[38;5;21;01moptimizer_v1\u001B[39;00m \u001B[38;5;28;01mimport\u001B[39;00m SGD\n",
      "File \u001B[1;32m~\\anaconda3\\lib\\site-packages\\keras\\__init__.py:21\u001B[0m, in \u001B[0;36m<module>\u001B[1;34m\u001B[0m\n\u001B[0;32m     15\u001B[0m \u001B[38;5;124;03m\"\"\"Implementation of the Keras API, the high-level API of TensorFlow.\u001B[39;00m\n\u001B[0;32m     16\u001B[0m \n\u001B[0;32m     17\u001B[0m \u001B[38;5;124;03mDetailed documentation and user guides are available at\u001B[39;00m\n\u001B[0;32m     18\u001B[0m \u001B[38;5;124;03m[keras.io](https://keras.io).\u001B[39;00m\n\u001B[0;32m     19\u001B[0m \u001B[38;5;124;03m\"\"\"\u001B[39;00m\n\u001B[0;32m     20\u001B[0m \u001B[38;5;66;03m# pylint: disable=unused-import\u001B[39;00m\n\u001B[1;32m---> 21\u001B[0m \u001B[38;5;28;01mfrom\u001B[39;00m \u001B[38;5;21;01mtensorflow\u001B[39;00m\u001B[38;5;21;01m.\u001B[39;00m\u001B[38;5;21;01mpython\u001B[39;00m \u001B[38;5;28;01mimport\u001B[39;00m tf2\n\u001B[0;32m     22\u001B[0m \u001B[38;5;28;01mfrom\u001B[39;00m \u001B[38;5;21;01mkeras\u001B[39;00m \u001B[38;5;28;01mimport\u001B[39;00m distribute\n\u001B[0;32m     24\u001B[0m \u001B[38;5;66;03m# See b/110718070#comment18 for more details about this import.\u001B[39;00m\n",
      "\u001B[1;31mModuleNotFoundError\u001B[0m: No module named 'tensorflow'"
     ]
    }
   ],
   "source": [
    "from keras.models import Sequential\n",
    "from keras.layers.core import Dense, Dropout, Activation\n",
    "from keras.optimizer_v1 import SGD\n",
    "\n",
    "# 模型初始化\n",
    "model = Sequential()\n",
    "# 添加输入层20节点,第一隐藏层64节点的连接\n",
    "model.add(Dense(20, 64))\n",
    "# 第一隐藏层用tanh作为激活函数\n",
    "model.add(Activation('tanh'))\n",
    "# 使用Dropout防止过拟合\n",
    "model.add(Dropout(0.5))\n",
    "# 第一隐藏层64节点,第二隐藏层64节点的连接\n",
    "model.add(Dense(64, 64))\n",
    "# 第一隐藏层用tanh作为激活函数\n",
    "model.add(Activation('tanh'))\n",
    "# 使用Dropout防止过拟合\n",
    "model.add(Dropout(0.5))\n",
    "# 第二隐藏层64节点,输出层1节点的连接\n",
    "model.add(Dense(64, 1))\n",
    "# 输出层用sigmoid作为激活函数\n",
    "model.add(Activation('sigmoid'))\n",
    "\n",
    "# 求解算法\n",
    "sgd = SGD(lr=0.1, decay=1e-6, momentum=0.9, nesterov=True)\n",
    "# 编译生成模型,损失函数为平均误差平方和\n",
    "model.compile(loss='mean_squared_error', optimizer=sgd)\n",
    "# 训练\n",
    "# model.fit(x_train,y_train,nb_epoch=20,batch_size=16)\n",
    "# 测试\n",
    "# model.evaluate(x_test,y_test,batch_size=16)"
   ],
   "metadata": {
    "collapsed": false,
    "pycharm": {
     "name": "#%%\n"
    }
   }
  },
  {
   "cell_type": "markdown",
   "source": [
    "### gensim\n",
    "文本主题模型库,文本挖掘"
   ],
   "metadata": {
    "collapsed": false,
    "pycharm": {
     "name": "#%% md\n"
    }
   }
  },
  {
   "cell_type": "code",
   "execution_count": 111,
   "outputs": [
    {
     "name": "stderr",
     "output_type": "stream",
     "text": [
      "2022-07-08 14:01:33,975 : INFO : collecting all words and their counts\n",
      "2022-07-08 14:01:33,976 : INFO : PROGRESS: at sentence #0, processed 0 words, keeping 0 word types\n",
      "2022-07-08 14:01:33,977 : INFO : collected 3 word types from a corpus of 4 raw words and 2 sentences\n",
      "2022-07-08 14:01:33,977 : INFO : Creating a fresh vocabulary\n",
      "2022-07-08 14:01:33,979 : INFO : Word2Vec lifecycle event {'msg': 'effective_min_count=1 retains 3 unique words (100.0%% of original 3, drops 0)', 'datetime': '2022-07-08T14:01:33.979196', 'gensim': '4.1.2', 'python': '3.9.12 (main, Apr  4 2022, 05:22:27) [MSC v.1916 64 bit (AMD64)]', 'platform': 'Windows-10-10.0.19044-SP0', 'event': 'prepare_vocab'}\n",
      "2022-07-08 14:01:33,979 : INFO : Word2Vec lifecycle event {'msg': 'effective_min_count=1 leaves 4 word corpus (100.0%% of original 4, drops 0)', 'datetime': '2022-07-08T14:01:33.979196', 'gensim': '4.1.2', 'python': '3.9.12 (main, Apr  4 2022, 05:22:27) [MSC v.1916 64 bit (AMD64)]', 'platform': 'Windows-10-10.0.19044-SP0', 'event': 'prepare_vocab'}\n",
      "2022-07-08 14:01:33,980 : INFO : deleting the raw counts dictionary of 3 items\n",
      "2022-07-08 14:01:33,981 : INFO : sample=0.001 downsamples 3 most-common words\n",
      "2022-07-08 14:01:33,981 : INFO : Word2Vec lifecycle event {'msg': 'downsampling leaves estimated 0.2279338255067268 word corpus (5.7%% of prior 4)', 'datetime': '2022-07-08T14:01:33.981196', 'gensim': '4.1.2', 'python': '3.9.12 (main, Apr  4 2022, 05:22:27) [MSC v.1916 64 bit (AMD64)]', 'platform': 'Windows-10-10.0.19044-SP0', 'event': 'prepare_vocab'}\n",
      "2022-07-08 14:01:33,981 : INFO : estimated required memory for 3 words and 100 dimensions: 3900 bytes\n",
      "2022-07-08 14:01:33,982 : INFO : resetting layer weights\n",
      "2022-07-08 14:01:33,982 : INFO : Word2Vec lifecycle event {'update': False, 'trim_rule': 'None', 'datetime': '2022-07-08T14:01:33.982199', 'gensim': '4.1.2', 'python': '3.9.12 (main, Apr  4 2022, 05:22:27) [MSC v.1916 64 bit (AMD64)]', 'platform': 'Windows-10-10.0.19044-SP0', 'event': 'build_vocab'}\n",
      "2022-07-08 14:01:33,982 : INFO : Word2Vec lifecycle event {'msg': 'training model with 3 workers on 3 vocabulary and 100 features, using sg=0 hs=0 sample=0.001 negative=5 window=5 shrink_windows=True', 'datetime': '2022-07-08T14:01:33.982199', 'gensim': '4.1.2', 'python': '3.9.12 (main, Apr  4 2022, 05:22:27) [MSC v.1916 64 bit (AMD64)]', 'platform': 'Windows-10-10.0.19044-SP0', 'event': 'train'}\n",
      "2022-07-08 14:01:33,985 : INFO : worker thread finished; awaiting finish of 2 more threads\n",
      "2022-07-08 14:01:33,985 : INFO : worker thread finished; awaiting finish of 1 more threads\n",
      "2022-07-08 14:01:33,986 : INFO : worker thread finished; awaiting finish of 0 more threads\n",
      "2022-07-08 14:01:33,986 : INFO : EPOCH - 1 : training on 4 raw words (0 effective words) took 0.0s, 0 effective words/s\n",
      "2022-07-08 14:01:33,988 : INFO : worker thread finished; awaiting finish of 2 more threads\n",
      "2022-07-08 14:01:33,989 : INFO : worker thread finished; awaiting finish of 1 more threads\n",
      "2022-07-08 14:01:33,989 : INFO : worker thread finished; awaiting finish of 0 more threads\n",
      "2022-07-08 14:01:33,990 : INFO : EPOCH - 2 : training on 4 raw words (0 effective words) took 0.0s, 0 effective words/s\n",
      "2022-07-08 14:01:33,992 : INFO : worker thread finished; awaiting finish of 2 more threads\n",
      "2022-07-08 14:01:33,993 : INFO : worker thread finished; awaiting finish of 1 more threads\n",
      "2022-07-08 14:01:33,993 : INFO : worker thread finished; awaiting finish of 0 more threads\n",
      "2022-07-08 14:01:33,994 : INFO : EPOCH - 3 : training on 4 raw words (1 effective words) took 0.0s, 538 effective words/s\n",
      "2022-07-08 14:01:33,996 : INFO : worker thread finished; awaiting finish of 2 more threads\n",
      "2022-07-08 14:01:33,996 : INFO : worker thread finished; awaiting finish of 1 more threads\n",
      "2022-07-08 14:01:33,997 : INFO : worker thread finished; awaiting finish of 0 more threads\n",
      "2022-07-08 14:01:33,997 : INFO : EPOCH - 4 : training on 4 raw words (0 effective words) took 0.0s, 0 effective words/s\n",
      "2022-07-08 14:01:33,999 : INFO : worker thread finished; awaiting finish of 2 more threads\n",
      "2022-07-08 14:01:33,999 : INFO : worker thread finished; awaiting finish of 1 more threads\n",
      "2022-07-08 14:01:33,999 : INFO : worker thread finished; awaiting finish of 0 more threads\n",
      "2022-07-08 14:01:34,000 : INFO : EPOCH - 5 : training on 4 raw words (0 effective words) took 0.0s, 0 effective words/s\n",
      "2022-07-08 14:01:34,000 : INFO : Word2Vec lifecycle event {'msg': 'training on 20 raw words (1 effective words) took 0.0s, 57 effective words/s', 'datetime': '2022-07-08T14:01:34.000452', 'gensim': '4.1.2', 'python': '3.9.12 (main, Apr  4 2022, 05:22:27) [MSC v.1916 64 bit (AMD64)]', 'platform': 'Windows-10-10.0.19044-SP0', 'event': 'train'}\n",
      "2022-07-08 14:01:34,000 : INFO : Word2Vec lifecycle event {'params': 'Word2Vec(vocab=3, vector_size=100, alpha=0.025)', 'datetime': '2022-07-08T14:01:34.000452', 'gensim': '4.1.2', 'python': '3.9.12 (main, Apr  4 2022, 05:22:27) [MSC v.1916 64 bit (AMD64)]', 'platform': 'Windows-10-10.0.19044-SP0', 'event': 'created'}\n"
     ]
    },
    {
     "name": "stdout",
     "output_type": "stream",
     "text": [
      "[-5.3622725e-04  2.3643016e-04  5.1033497e-03  9.0092728e-03\n",
      " -9.3029495e-03 -7.1168090e-03  6.4588715e-03  8.9729885e-03\n",
      " -5.0154282e-03 -3.7633730e-03  7.3805046e-03 -1.5334726e-03\n",
      " -4.5366143e-03  6.5540504e-03 -4.8601604e-03 -1.8160177e-03\n",
      "  2.8765798e-03  9.9187379e-04 -8.2852151e-03 -9.4488189e-03\n",
      "  7.3117660e-03  5.0702621e-03  6.7576934e-03  7.6286553e-04\n",
      "  6.3508893e-03 -3.4053659e-03 -9.4640255e-04  5.7685734e-03\n",
      " -7.5216386e-03 -3.9361049e-03 -7.5115822e-03 -9.3004224e-04\n",
      "  9.5381187e-03 -7.3191668e-03 -2.3337698e-03 -1.9377422e-03\n",
      "  8.0774352e-03 -5.9308959e-03  4.5161247e-05 -4.7537349e-03\n",
      " -9.6035507e-03  5.0072931e-03 -8.7595871e-03 -4.3918253e-03\n",
      " -3.5099984e-05 -2.9618264e-04 -7.6612402e-03  9.6147414e-03\n",
      "  4.9820566e-03  9.2331432e-03 -8.1579182e-03  4.4957972e-03\n",
      " -4.1370774e-03  8.2453492e-04  8.4986184e-03 -4.4621779e-03\n",
      "  4.5175003e-03 -6.7869616e-03 -3.5484887e-03  9.3985079e-03\n",
      " -1.5776539e-03  3.2137157e-04 -4.1406299e-03 -7.6826881e-03\n",
      " -1.5080094e-03  2.4697948e-03 -8.8802812e-04  5.5336617e-03\n",
      " -2.7429771e-03  2.2600652e-03  5.4557943e-03  8.3459523e-03\n",
      " -1.4537406e-03 -9.2081428e-03  4.3705511e-03  5.7178497e-04\n",
      "  7.4419067e-03 -8.1328390e-04 -2.6384138e-03 -8.7530091e-03\n",
      " -8.5655687e-04  2.8265619e-03  5.4014279e-03  7.0526553e-03\n",
      " -5.7031228e-03  1.8588186e-03  6.0888622e-03 -4.7980524e-03\n",
      " -3.1072616e-03  6.7976285e-03  1.6314745e-03  1.8991709e-04\n",
      "  3.4736372e-03  2.1777629e-04  9.6188262e-03  5.0606038e-03\n",
      " -8.9173913e-03 -7.0415614e-03  9.0145587e-04  6.3925339e-03]\n"
     ]
    }
   ],
   "source": [
    "import gensim, logging\n",
    "\n",
    "logging.basicConfig(format='%(asctime)s : %(levelname)s : %(message)s', level=logging.INFO)\n",
    "sentences = [['first', 'sentence'], ['second', 'sentence']]\n",
    "model = gensim.models.Word2Vec(sentences, min_count=1)\n",
    "print(model.wv['sentence'])"
   ],
   "metadata": {
    "collapsed": false,
    "pycharm": {
     "name": "#%%\n"
    }
   }
  }
 ],
 "metadata": {
  "kernelspec": {
   "display_name": "Python 3",
   "language": "python",
   "name": "python3"
  },
  "language_info": {
   "codemirror_mode": {
    "name": "ipython",
    "version": 2
   },
   "file_extension": ".py",
   "mimetype": "text/x-python",
   "name": "python",
   "nbconvert_exporter": "python",
   "pygments_lexer": "ipython2",
   "version": "2.7.6"
  }
 },
 "nbformat": 4,
 "nbformat_minor": 0
}